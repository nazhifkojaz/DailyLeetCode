{
 "cells": [
  {
   "cell_type": "markdown",
   "metadata": {},
   "source": [
    "## Day 1 - [Remove Element (Easy)](https://leetcode.com/problems/remove-element/)"
   ]
  },
  {
   "cell_type": "code",
   "execution_count": 1,
   "metadata": {},
   "outputs": [],
   "source": [
    "def removeElement(self, nums, val):\n",
    "    \"\"\"\n",
    "    :type nums: List[int]\n",
    "    :type val: int\n",
    "    :rtype: int\n",
    "    \"\"\"\n",
    "    counter = 0\n",
    "    for idx in range(0, len(nums)):\n",
    "        if nums[idx] != val:\n",
    "            nums[counter] = nums[idx]\n",
    "            counter += 1\n",
    "    return counter"
   ]
  },
  {
   "cell_type": "code",
   "execution_count": 3,
   "metadata": {},
   "outputs": [
    {
     "data": {
      "text/plain": [
       "2"
      ]
     },
     "execution_count": 3,
     "metadata": {},
     "output_type": "execute_result"
    }
   ],
   "source": [
    "removeElement(0, [3,2,2,3], 3)"
   ]
  },
  {
   "cell_type": "markdown",
   "metadata": {},
   "source": [
    "<div style=\"float: left\">\n",
    "<img style=\"float: right\" src=\"ss/day1.png\" alt=\"screenshot\" width=\"600\"/>\n",
    "Explanation:\n",
    "\n",
    "The code is pretty much self-explained, basically what I did was to bring the element that is not 'val' forward while counting the number of elements that we brought forward and return the 'counter' val.\n",
    "Extra steps like deleting the elements after 'counter'-1 and returning the length of what's remained in the list though.\n",
    "</div>\n"
   ]
  },
  {
   "cell_type": "markdown",
   "metadata": {},
   "source": [
    "## Day 2 - [Valid Sudoku (Medium)](https://leetcode.com/problems/valid-sudoku/)"
   ]
  },
  {
   "cell_type": "code",
   "execution_count": 2,
   "metadata": {},
   "outputs": [],
   "source": [
    "def isValidSudoku(self, board):\n",
    "    \"\"\"\n",
    "    :type board: List[List[str]]\n",
    "    :rtype: bool\n",
    "    \"\"\"\n",
    "    # check if the segment valid\n",
    "    def is_valid(arr):\n",
    "        reduced_arr = [i for i in arr if i != '.']\n",
    "        return len(set(reduced_arr)) == len(reduced_arr)\n",
    "    # check rows\n",
    "    for row in board:\n",
    "        if not is_valid(row):\n",
    "            return False\n",
    "    # check cols\n",
    "    for j in range(9):\n",
    "        col = [board[i][j] for i in range(9)]\n",
    "        if not is_valid(col):\n",
    "            return False\n",
    "    # check 3x3 blocks\n",
    "    for i in (0,3,6):\n",
    "        for j in (0,3,6):\n",
    "            block = [board[x][y] for x in range(i, i + 3) for y in range(j, j + 3)]\n",
    "            if not is_valid(block):\n",
    "                return False\n",
    "    return True"
   ]
  },
  {
   "cell_type": "code",
   "execution_count": 11,
   "metadata": {},
   "outputs": [
    {
     "data": {
      "text/plain": [
       "True"
      ]
     },
     "execution_count": 11,
     "metadata": {},
     "output_type": "execute_result"
    }
   ],
   "source": [
    "isValidSudoku(0, \n",
    "              [[\"5\",\"3\",\".\",\".\",\"7\",\".\",\".\",\".\",\".\"],\n",
    "               [\"6\",\".\",\".\",\"1\",\"9\",\"5\",\".\",\".\",\".\"],\n",
    "               [\".\",\"9\",\"8\",\".\",\".\",\".\",\".\",\"6\",\".\"],\n",
    "               [\"8\",\".\",\".\",\".\",\"6\",\".\",\".\",\".\",\"3\"],\n",
    "               [\"4\",\".\",\".\",\"8\",\".\",\"3\",\".\",\".\",\"1\"],\n",
    "               [\"7\",\".\",\".\",\".\",\"2\",\".\",\".\",\".\",\"6\"],\n",
    "               [\".\",\"6\",\".\",\".\",\".\",\".\",\"2\",\"8\",\".\"],\n",
    "               [\".\",\".\",\".\",\"4\",\"1\",\"9\",\".\",\".\",\"5\"],\n",
    "               [\".\",\".\",\".\",\".\",\"8\",\".\",\".\",\"7\",\"9\"]])"
   ]
  },
  {
   "cell_type": "markdown",
   "metadata": {},
   "source": [
    "<div style=\"float: left\">\n",
    "<img style=\"float: right\" src=\"ss/day2.png\" alt=\"screenshot\" width=\"600\"/>\n",
    "Explanation:\n",
    "\n",
    "I think the code is pretty readable but basically I tried to check the validity of the sudoku board sequentially starting from its row, cols and each 3x3 blocks. and for each check, I comparede the length of 1d list of the segment I want to check to the length its set/unique elements of it. \n",
    "</div>\n"
   ]
  },
  {
   "cell_type": "markdown",
   "metadata": {},
   "source": [
    "## Day 3 - [Jump Game II (Medium)](https://leetcode.com/problems/jump-game-ii/)"
   ]
  },
  {
   "cell_type": "code",
   "execution_count": 15,
   "metadata": {},
   "outputs": [],
   "source": [
    "def jump(self, nums):\n",
    "    if len(nums) == 1:\n",
    "        return 0 #for early exit\n",
    "    \n",
    "    left, right, step_counter = 0, 0, 0\n",
    "    while right < len(nums)-1:\n",
    "        max_jump = 0\n",
    "        for i in range(left, right+1):\n",
    "            max_jump = max(max_jump, i + nums[i])\n",
    "        left, right = right + 1, max_jump\n",
    "        step_counter += 1\n",
    "    return step_counter"
   ]
  },
  {
   "cell_type": "code",
   "execution_count": 16,
   "metadata": {},
   "outputs": [
    {
     "data": {
      "text/plain": [
       "2"
      ]
     },
     "execution_count": 16,
     "metadata": {},
     "output_type": "execute_result"
    }
   ],
   "source": [
    "jump(0, [2,3,1,1,4])"
   ]
  },
  {
   "cell_type": "markdown",
   "metadata": {},
   "source": [
    "<div style=\"float: left\">\n",
    "<img style=\"float: right\" src=\"ss/day3.png\" alt=\"screenshot\" width=\"600\"/>\n",
    "Explanation:\n",
    "\n",
    "this is a greedy apporach which maximizes the jump at each step and then moves to the next step since we are only interested in the minimum number of steps to reach the end.\n",
    "</div>\n"
   ]
  },
  {
   "cell_type": "markdown",
   "metadata": {},
   "source": [
    "## Day 4 - [Merge Intervals (Medium)](https://leetcode.com/problems/merge-intervals/)"
   ]
  },
  {
   "cell_type": "code",
   "execution_count": 5,
   "metadata": {},
   "outputs": [],
   "source": [
    "def merge(self, intervals):\n",
    "    if len(intervals) == 0:\n",
    "        return [] #for early exit\n",
    "    \n",
    "    intervals = sorted(intervals, key = lambda x: x[0])\n",
    "    merged = [intervals[0]]\n",
    "    \n",
    "    for cur in intervals[1:]:\n",
    "        if merged[-1][1] >= cur[0]:\n",
    "            merged[-1][1] = max(cur[1], merged[-1][1])\n",
    "        else:\n",
    "            merged.append(cur)\n",
    "    return merged"
   ]
  },
  {
   "cell_type": "code",
   "execution_count": 6,
   "metadata": {},
   "outputs": [
    {
     "data": {
      "text/plain": [
       "[[1, 6], [8, 10], [15, 18]]"
      ]
     },
     "execution_count": 6,
     "metadata": {},
     "output_type": "execute_result"
    }
   ],
   "source": [
    "merge(0, [[1,3],[2,6],[8,10],[15,18]])"
   ]
  },
  {
   "cell_type": "markdown",
   "metadata": {},
   "source": [
    "<div style=\"float: left\">\n",
    "<img style=\"float: right\" src=\"ss/day4.png\" alt=\"screenshot\" width=\"600\"/>\n",
    "Explanation:\n",
    "The approach I took to solve this is that first, I sort the elements in 'intervals' (which consists of values of [start, end]) based on its 'start' value. Then the rest is just matter of comparing the last element of merged's [end] with each of interval's element's [start] to construct/fill the 'merged' list.\n",
    "</div>\n"
   ]
  },
  {
   "cell_type": "markdown",
   "metadata": {},
   "source": [
    "### Extra - [Length of Last Word (Easy)](https://leetcode.com/problems/length-of-last-word/)"
   ]
  },
  {
   "cell_type": "code",
   "execution_count": 7,
   "metadata": {},
   "outputs": [],
   "source": [
    "def lengthOfLastWordLazy(self, s):\n",
    "    return len(s.strip().split(\" \")[-1])\n",
    "def lengthOfLastWordEffort(self, s):\n",
    "    answer = 0\n",
    "    for c in s[::-1]:\n",
    "        if c != ' ':\n",
    "            answer += 1\n",
    "        elif answer > 0:\n",
    "            break\n",
    "    return answer"
   ]
  },
  {
   "cell_type": "code",
   "execution_count": 9,
   "metadata": {},
   "outputs": [
    {
     "name": "stdout",
     "output_type": "stream",
     "text": [
      "4\n",
      "4\n"
     ]
    }
   ],
   "source": [
    "print(lengthOfLastWordLazy(0, \"   fly me   to   the moon  \"))\n",
    "print(lengthOfLastWordEffort(0, \"   fly me   to   the moon  \"))"
   ]
  },
  {
   "cell_type": "markdown",
   "metadata": {},
   "source": [
    "a lazy apporach (where I used the built-in split function) and an effort approach (where I looped through the string in reverse and counted the length of the last word). The lazy approach is more readable and concise, but the effort approach is more efficient. The lazy approach has a time complexity of O(n) and a space complexity of O(n), while the effort approach has a time complexity of O(n) and a space complexity of O(1)."
   ]
  },
  {
   "cell_type": "markdown",
   "metadata": {},
   "source": [
    "## Day 5 - [Divide Two Integers (Medium)](https://leetcode.com/problems/divide-two-integers/)"
   ]
  },
  {
   "cell_type": "code",
   "execution_count": 12,
   "metadata": {},
   "outputs": [],
   "source": [
    "def divide(self, dividend, divisor):\n",
    "    neg = (dividend >= 0 and divisor < 0) or (dividend < 0 and divisor >= 0)\n",
    "    \n",
    "    q = 0\n",
    "    a = abs(dividend)\n",
    "    b = abs(divisor)\n",
    "    while a >= b:\n",
    "        counter = 1\n",
    "        dec = b\n",
    "        while a >= dec:\n",
    "            a -= dec\n",
    "            q += counter\n",
    "            counter += counter\n",
    "            dec += dec\n",
    "    q = q if not neg else -q\n",
    "    \n",
    "    return min(max(-2147483648, q), 2147483647)"
   ]
  },
  {
   "cell_type": "code",
   "execution_count": 14,
   "metadata": {},
   "outputs": [
    {
     "data": {
      "text/plain": [
       "3"
      ]
     },
     "execution_count": 14,
     "metadata": {},
     "output_type": "execute_result"
    }
   ],
   "source": [
    "divide(0, 10, 3)"
   ]
  },
  {
   "cell_type": "markdown",
   "metadata": {},
   "source": [
    "<div style=\"float: left\">\n",
    "<img style=\"float: right\" src=\"ss/day5.png\" alt=\"screenshot\" width=\"600\"/>\n",
    "Explanation:\n",
    "\n",
    "the approach is to keep subtracting the divisor from the dividend until the dividend is less than the divisor. The number of times we subtract is the quotient. We keep doubling the divisor and the counter until the dividend is less than the doubled divisor. This is probably not the most optimal approach and I think bit manipulation will be a more optimal solution for this problem.\n",
    "</div>"
   ]
  },
  {
   "cell_type": "markdown",
   "metadata": {},
   "source": [
    "## Day 6 - [Partition Array for Maximum Sum (Medium)](https://leetcode.com/problems/partition-array-for-maximum-sum/)"
   ]
  },
  {
   "cell_type": "code",
   "execution_count": 17,
   "metadata": {},
   "outputs": [],
   "source": [
    "def maxSumAfterPartitioning(self, arr, k):\n",
    "    n = len(arr)\n",
    "    dp = [0] * n\n",
    "\n",
    "    for i in range(n):\n",
    "        current_max = 0\n",
    "        for j in range(1, min(k, i + 1) + 1):\n",
    "            current_max = max(current_max, arr[i - j + 1])\n",
    "            dp[i] = max(dp[i], (dp[i - j] if i - j >= 0 else 0) + current_max * j)\n",
    "\n",
    "    # return dp[-1]\n",
    "    return min(2147483648,max(-2147483648, dp[-1]))"
   ]
  },
  {
   "cell_type": "code",
   "execution_count": 18,
   "metadata": {},
   "outputs": [
    {
     "data": {
      "text/plain": [
       "84"
      ]
     },
     "execution_count": 18,
     "metadata": {},
     "output_type": "execute_result"
    }
   ],
   "source": [
    "maxSumAfterPartitioning(0, [1,15,7,9,2,5,10], 3)"
   ]
  },
  {
   "cell_type": "markdown",
   "metadata": {},
   "source": [
    "<div style=\"float: left\">\n",
    "<img style=\"float: right\" src=\"ss/day6.png\" alt=\"screenshot\" width=\"600\"/>\n",
    "Explanation:\n",
    "\n",
    "this is a dynamic programming problem, the idea is to keep track of the maximum value of the last k elements, and then use that to calculate the maximum value of the last k+1 elements, and so on. I kinda misread the problem's description where I thought we need to clamp the result within 32bit integer range, which was not hahahaha\n",
    "</div>"
   ]
  },
  {
   "cell_type": "markdown",
   "metadata": {},
   "source": [
    "## Day 7 - [Trips and Users (Hard)](https://leetcode.com/problems/trips-and-users/)"
   ]
  },
  {
   "cell_type": "code",
   "execution_count": 20,
   "metadata": {},
   "outputs": [],
   "source": [
    "import pandas as pd\n",
    "\n",
    "def trips_and_users(trips: pd.DataFrame, users: pd.DataFrame) -> pd.DataFrame:\n",
    "    trips = trips[trips.request_at.between('2013-10-01', '2013-10-03')].rename(columns = {'request_at':'Day'})\n",
    "    trips = trips[(trips['client_id'].isin(users[users['banned'] == 'No']['users_id'])) & (trips['driver_id'].isin(users[users['banned'] == 'No']['users_id']))]\n",
    "    \n",
    "    if trips.empty or users.empty:\n",
    "        return pd.DataFrame(columns=['Day', 'Cancellation Rate'])\n",
    "\n",
    "    trips['status'] = trips['status'].str.split('_').str[0]\n",
    "    trips['is_cancelled'] = trips['status'] == 'cancelled'\n",
    "\n",
    "    trips = trips.groupby('Day')['is_cancelled'].agg(['sum','size']).reset_index()\n",
    "    trips['Cancellation Rate'] = (trips['sum'] / trips['size']).round(2)\n",
    "\n",
    "    return trips[['Day', 'Cancellation Rate']]"
   ]
  },
  {
   "cell_type": "markdown",
   "metadata": {},
   "source": [
    "<div style=\"float: left\">\n",
    "<img style=\"float: right\" src=\"ss/day7.png\" alt=\"screenshot\" width=\"600\"/>\n",
    "Explanation:\n",
    "\n",
    "the apporach is to first filter the trips dataframe to only include the trips that happened between the dates '2013-10-01' and '2013-10-03'. Then, we filter the trips dataframe to only include the trips where the client_id and driver_id are not banned. We then create a new column called status which is the first word of the status column. Then, we create a new column called is_cancelled which is True if the status is cancelled and False otherwise. We then group the dataframe by the Day column and calculate the sum and size of the is_cancelled column. We then calculate the Cancellation Rate by dividing the sum by the size and rounding to 2 decimal places. Finally, we return the Day and Cancellation Rate columns.\n",
    "\n",
    "technically did not managed to finish the problem before midnight T_T\n",
    "</div>"
   ]
  },
  {
   "cell_type": "markdown",
   "metadata": {},
   "source": [
    "## Day 8 - [Game Play Analysis I (Easy)](https://leetcode.com/problems/game-play-analysis-i/)"
   ]
  },
  {
   "cell_type": "code",
   "execution_count": 21,
   "metadata": {},
   "outputs": [],
   "source": [
    "import pandas as pd\n",
    "\n",
    "def game_analysis(activity: pd.DataFrame) -> pd.DataFrame:\n",
    "    activity.sort_values(by='event_date', ascending = True, inplace = True)\n",
    "    return activity.drop_duplicates(subset = 'player_id', keep = 'first') \\\n",
    "            [['player_id', 'event_date']] \\\n",
    "            .rename(columns={'event_date':'first_login'})"
   ]
  },
  {
   "cell_type": "markdown",
   "metadata": {},
   "source": [
    "<div style=\"float: left\">\n",
    "<img style=\"float: right\" src=\"ss/day8.png\" alt=\"screenshot\" width=\"600\"/>\n",
    "Explanation:\n",
    "\n",
    "the approach is to sort the dataframe by event_date, then drop duplicates by player_id, keeping the first login date.\n",
    "\n",
    "grouping the dataframe based on player_id and using agg to get the minimum value of event_date, while at the same time renaming the column will probably result in more optimal performance\n",
    "</div>"
   ]
  },
  {
   "cell_type": "markdown",
   "metadata": {},
   "source": [
    "## Day 9 - [Game Play Analysis IV (Medium)](https://leetcode.com/problems/game-play-analysis-iv/)"
   ]
  },
  {
   "cell_type": "code",
   "execution_count": 2,
   "metadata": {},
   "outputs": [],
   "source": [
    "import pandas as pd\n",
    "\n",
    "def gameplay_analysis_iv(activity: pd.DataFrame) -> pd.DataFrame:\n",
    "    activity['first_login'] = activity.groupby(['player_id'])[['event_date']].transform('min')\n",
    "    next_dayers = activity[(activity['event_date'] - activity['first_login']).dt.days == 1]\n",
    "    return pd.DataFrame({'fraction': [round(next_dayers['player_id'].nunique() / activity['player_id'].nunique(), 2)]})"
   ]
  },
  {
   "cell_type": "code",
   "execution_count": 4,
   "metadata": {},
   "outputs": [
    {
     "data": {
      "text/html": [
       "<div>\n",
       "<style scoped>\n",
       "    .dataframe tbody tr th:only-of-type {\n",
       "        vertical-align: middle;\n",
       "    }\n",
       "\n",
       "    .dataframe tbody tr th {\n",
       "        vertical-align: top;\n",
       "    }\n",
       "\n",
       "    .dataframe thead th {\n",
       "        text-align: right;\n",
       "    }\n",
       "</style>\n",
       "<table border=\"1\" class=\"dataframe\">\n",
       "  <thead>\n",
       "    <tr style=\"text-align: right;\">\n",
       "      <th></th>\n",
       "      <th>fraction</th>\n",
       "    </tr>\n",
       "  </thead>\n",
       "  <tbody>\n",
       "    <tr>\n",
       "      <th>0</th>\n",
       "      <td>0.33</td>\n",
       "    </tr>\n",
       "  </tbody>\n",
       "</table>\n",
       "</div>"
      ],
      "text/plain": [
       "   fraction\n",
       "0      0.33"
      ]
     },
     "execution_count": 4,
     "metadata": {},
     "output_type": "execute_result"
    }
   ],
   "source": [
    "df = pd.DataFrame({'player_id': [1, 1, 2, 2, 3, 3],\n",
    "                     'event_date': ['2020-01-01', '2020-01-02', '2020-01-01', '2020-01-03', '2020-01-01', '2020-01-04']})\n",
    "df['event_date'] = pd.to_datetime(df['event_date'])\n",
    "gameplay_analysis_iv(df)"
   ]
  },
  {
   "cell_type": "markdown",
   "metadata": {},
   "source": [
    "<div style=\"float: left\">\n",
    "<img style=\"float: right\" src=\"ss/day9.png\" alt=\"screenshot\" width=\"600\"/>\n",
    "Explanation:\n",
    "\n",
    "the approach is to find the first login date for each player, then find the next day players by creating a new dataframe that filters the players who logged in the next day after their first login, then find the fraction of the next day players by dividing the nunique of the next day players and all players.\n",
    "</div>"
   ]
  },
  {
   "cell_type": "markdown",
   "metadata": {},
   "source": [
    "## Day 10 - [Managers with at least 5 direct reports (Medium)](https://leetcode.com/problems/managers-with-at-least-5-direct-reports/)"
   ]
  },
  {
   "cell_type": "code",
   "execution_count": 5,
   "metadata": {},
   "outputs": [],
   "source": [
    "import pandas as pd\n",
    "\n",
    "def find_managers(employee: pd.DataFrame) -> pd.DataFrame:\n",
    "    managers = employee.groupby('managerId').size().reset_index(name='num_reports')\n",
    "\n",
    "    # Join with the original employees DataFrame to get the names of the managers\n",
    "    result = pd.merge(managers[managers['num_reports'] >= 5], employee, left_on='managerId', right_on='id', how='inner')\n",
    "\n",
    "    return result['name'].to_frame()"
   ]
  },
  {
   "cell_type": "code",
   "execution_count": 9,
   "metadata": {},
   "outputs": [
    {
     "data": {
      "text/html": [
       "<div>\n",
       "<style scoped>\n",
       "    .dataframe tbody tr th:only-of-type {\n",
       "        vertical-align: middle;\n",
       "    }\n",
       "\n",
       "    .dataframe tbody tr th {\n",
       "        vertical-align: top;\n",
       "    }\n",
       "\n",
       "    .dataframe thead th {\n",
       "        text-align: right;\n",
       "    }\n",
       "</style>\n",
       "<table border=\"1\" class=\"dataframe\">\n",
       "  <thead>\n",
       "    <tr style=\"text-align: right;\">\n",
       "      <th></th>\n",
       "      <th>name</th>\n",
       "    </tr>\n",
       "  </thead>\n",
       "  <tbody>\n",
       "    <tr>\n",
       "      <th>0</th>\n",
       "      <td>John</td>\n",
       "    </tr>\n",
       "  </tbody>\n",
       "</table>\n",
       "</div>"
      ],
      "text/plain": [
       "   name\n",
       "0  John"
      ]
     },
     "execution_count": 9,
     "metadata": {},
     "output_type": "execute_result"
    }
   ],
   "source": [
    "import pandas as pd\n",
    "df = pd.DataFrame({'id': [7, 3, 1, 13, 15, 16],\n",
    "                     'name': ['John', 'Doe', 'Jane', 'Smith', 'Frank', 'Tom'],\n",
    "                     'managerId': [None, 7, 7, 7, 7, 7]})\n",
    "find_managers(df)"
   ]
  },
  {
   "cell_type": "markdown",
   "metadata": {},
   "source": [
    "<div style=\"float: left\">\n",
    "<img style=\"float: right\" src=\"ss/day10.png\" alt=\"screenshot\" width=\"600\"/>\n",
    "Explanation:\n",
    "\n",
    "the apporach is to first find group by managerId, calculate the size of each group then merge the result with the original dataframe while filtering the result with num_reports >= 5\n",
    "</div>"
   ]
  },
  {
   "cell_type": "markdown",
   "metadata": {},
   "source": [
    "## Day 11 - [Swap nodes in pairs (Medium)](https://leetcode.com/problems/swap-nodes-in-pairs/)"
   ]
  },
  {
   "cell_type": "code",
   "execution_count": 11,
   "metadata": {},
   "outputs": [],
   "source": [
    "# Definition for singly-linked list.\n",
    "class ListNode(object):\n",
    "    def __init__(self, val=0, next=None):\n",
    "        self.val = val\n",
    "        self.next = next\n",
    "class Solution(object):\n",
    "    def swapPairs(self, head):\n",
    "        try:\n",
    "            result = head.next\n",
    "            head.next = self.swapPairs(result.next)\n",
    "            result.next = head\n",
    "            return result\n",
    "        except:\n",
    "            return head  "
   ]
  },
  {
   "cell_type": "markdown",
   "metadata": {},
   "source": [
    "<div style=\"float: left\">\n",
    "<img style=\"float: right\" src=\"ss/day11.png\" alt=\"screenshot\" width=\"600\"/>\n",
    "Explanation:\n",
    "\n",
    "the apporach is to use the swapPairs as a recursive function to swap the pairs of nodes, and we used try-except to handle the case where head or head.next is None since they will triggers an error which will be caught by the except block and return the head as it is.\n",
    "</div>"
   ]
  },
  {
   "cell_type": "markdown",
   "metadata": {},
   "source": [
    "## Day 12 - [Perfect Squares (Medium)](https://leetcode.com/problems/perfect-squares/)"
   ]
  },
  {
   "cell_type": "code",
   "execution_count": 14,
   "metadata": {},
   "outputs": [],
   "source": [
    "def numSquares(self, n):\n",
    "    dp = [float ('inf')] * (n + 1)\n",
    "    dp[0], val = 0, 1\n",
    "    \n",
    "    while val * val <= n:\n",
    "        square = val * val\n",
    "        for i in range(square, n+1):\n",
    "            dp[i] = min(dp[i - square] + 1, dp[i])\n",
    "        val += 1\n",
    "    return dp[n]"
   ]
  },
  {
   "cell_type": "code",
   "execution_count": 15,
   "metadata": {},
   "outputs": [
    {
     "data": {
      "text/plain": [
       "3"
      ]
     },
     "execution_count": 15,
     "metadata": {},
     "output_type": "execute_result"
    }
   ],
   "source": [
    "numSquares(0, 12)"
   ]
  },
  {
   "cell_type": "markdown",
   "metadata": {},
   "source": [
    "<div style=\"float: left\">\n",
    "<img style=\"float: right\" src=\"ss/day12.png\" alt=\"screenshot\" width=\"600\"/>\n",
    "Explanation:\n",
    "\n",
    "I'm using the dynamic programming approach where dp[i] represents the minimum number of perfect square numbers that sum to i. the first iteration (while) is to iterate through all the perfect square numbers less than or equal to n, and the second iteration (for) is to update the dp array.\n",
    "</div>"
   ]
  },
  {
   "cell_type": "markdown",
   "metadata": {},
   "source": [
    "## Day 13 - [Unique Paths II (Medium)](https://leetcode.com/problems/unique-paths-ii/)"
   ]
  },
  {
   "cell_type": "code",
   "execution_count": 16,
   "metadata": {},
   "outputs": [],
   "source": [
    "def uniquePathsWithObstacles(self, obstacleGrid):\n",
    "    if obstacleGrid[0][0]:\n",
    "        return 0 # if the 0,0 cell is blocked\n",
    "    \n",
    "    m, n = len(obstacleGrid), len(obstacleGrid[0])\n",
    "    dp = [[0] * n for _ in range(m)]\n",
    "    dp[0][0] = 1\n",
    "    \n",
    "    for i in range(m):\n",
    "        for j in range(n):\n",
    "            if obstacleGrid[i][j] or (i == 0 and j == 0): \n",
    "                continue\n",
    "            prev_y = dp[i-1][j] if i else 0\n",
    "            prev_x = dp[i][j-1] if j else 0\n",
    "            dp[i][j] =  prev_x + prev_y\n",
    "            \n",
    "    return dp[m-1][n-1]"
   ]
  },
  {
   "cell_type": "code",
   "execution_count": 17,
   "metadata": {},
   "outputs": [
    {
     "data": {
      "text/plain": [
       "2"
      ]
     },
     "execution_count": 17,
     "metadata": {},
     "output_type": "execute_result"
    }
   ],
   "source": [
    "uniquePathsWithObstacles(0, [[0,0,0],[0,1,0],[0,0,0]])"
   ]
  },
  {
   "cell_type": "markdown",
   "metadata": {},
   "source": [
    "<div style=\"float: left\">\n",
    "<img style=\"float: right\" src=\"ss/day13.png\" alt=\"screenshot\" width=\"600\"/>\n",
    "Explanation:\n",
    "\n",
    "I thought this was a pathfinding proble at first and I kinda skimmed through / skipped the problem description, and just proceed directly to write an exhaustive search + backtracking algorithm, which of course will not work hahaha.\n",
    "Then after I checked others' solution, I found out that the robot can only walk right or down, with a simple dynamic programming approach, where it calculate the sum of ways to reach [i][j] by the sum of ways its the left and upper block.\n",
    "</div>"
   ]
  },
  {
   "cell_type": "markdown",
   "metadata": {},
   "source": [
    "## Day 14 - [Interger to Roman (Medium)](https://leetcode.com/problems/integer-to-roman/)"
   ]
  },
  {
   "cell_type": "code",
   "execution_count": 18,
   "metadata": {},
   "outputs": [],
   "source": [
    "def intToRoman(self, num):\n",
    "    lookup = {1000: 'M', 900: 'CM', 500: 'D',\n",
    "                400: 'CD', 100: 'C', 90: 'XC',\n",
    "                50: 'L', 40: 'XL', 10: 'X',\n",
    "                9: 'IX', 5: 'V', 4: 'IV',\n",
    "                1: 'I'}\n",
    "    answer = ''\n",
    "    for key in [1000, 900, 500, 400, 100, 90, 50, 40, 10, 9, 5, 4, 1]:\n",
    "        while num >= key:\n",
    "            answer += lookup[key]\n",
    "            num -= key\n",
    "    return answer"
   ]
  },
  {
   "cell_type": "code",
   "execution_count": 19,
   "metadata": {},
   "outputs": [
    {
     "data": {
      "text/plain": [
       "'LVIII'"
      ]
     },
     "execution_count": 19,
     "metadata": {},
     "output_type": "execute_result"
    }
   ],
   "source": [
    "intToRoman(0, 58)"
   ]
  },
  {
   "cell_type": "markdown",
   "metadata": {},
   "source": [
    "<div style=\"float: left\">\n",
    "<img style=\"float: right\" src=\"ss/day14.png\" alt=\"screenshot\" width=\"600\"/>\n",
    "Explanation:\n",
    "\n",
    "The approach that I took here is to create a look up table and simply subtracting the num from the highest value to the smallest value in lookup table.\n",
    "</div>"
   ]
  },
  {
   "cell_type": "markdown",
   "metadata": {},
   "source": [
    "## Day 15 - [Insert Interval (Medium)](https://leetcode.com/problems/insert-interval/)"
   ]
  },
  {
   "cell_type": "code",
   "execution_count": 20,
   "metadata": {},
   "outputs": [],
   "source": [
    "def insert(self, intervals, newInterval):\n",
    "    intervals = sorted(intervals + [newInterval], key = lambda x: x[0])\n",
    "    merged = [intervals[0]]\n",
    "    for cur in intervals[1:]:\n",
    "        if merged[-1][1] >= cur[0]:\n",
    "            merged[-1][1] = max(cur[1], merged[-1][1])\n",
    "        else:\n",
    "            merged.append(cur)\n",
    "    return merged"
   ]
  },
  {
   "cell_type": "code",
   "execution_count": 21,
   "metadata": {},
   "outputs": [
    {
     "data": {
      "text/plain": [
       "[[1, 5], [6, 9]]"
      ]
     },
     "execution_count": 21,
     "metadata": {},
     "output_type": "execute_result"
    }
   ],
   "source": [
    "insert(0, [[1,3],[6,9]], [2,5])"
   ]
  },
  {
   "cell_type": "markdown",
   "metadata": {},
   "source": [
    "<div style=\"float: left\">\n",
    "<img style=\"float: right\" src=\"ss/day15.png\" alt=\"screenshot\" width=\"600\"/>\n",
    "Explanation:\n",
    "\n",
    "I'm using the same apporach to what I took for merge intervals (Day 4), with an addition of including the newInterval in the sorting process.\n",
    "</div>"
   ]
  }
 ],
 "metadata": {
  "kernelspec": {
   "display_name": "Python 3",
   "language": "python",
   "name": "python3"
  },
  "language_info": {
   "codemirror_mode": {
    "name": "ipython",
    "version": 3
   },
   "file_extension": ".py",
   "mimetype": "text/x-python",
   "name": "python",
   "nbconvert_exporter": "python",
   "pygments_lexer": "ipython3",
   "version": "3.11.5"
  }
 },
 "nbformat": 4,
 "nbformat_minor": 2
}
