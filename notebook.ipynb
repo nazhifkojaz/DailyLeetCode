{
 "cells": [
  {
   "cell_type": "markdown",
   "metadata": {},
   "source": [
    "## Day 1 - [Remove Element (Easy)](https://leetcode.com/problems/remove-element/)"
   ]
  },
  {
   "cell_type": "code",
   "execution_count": 1,
   "metadata": {},
   "outputs": [],
   "source": [
    "def removeElement(self, nums, val):\n",
    "    \"\"\"\n",
    "    :type nums: List[int]\n",
    "    :type val: int\n",
    "    :rtype: int\n",
    "    \"\"\"\n",
    "    counter = 0\n",
    "    for idx in range(0, len(nums)):\n",
    "        if nums[idx] != val:\n",
    "            nums[counter] = nums[idx]\n",
    "            counter += 1\n",
    "    return counter"
   ]
  },
  {
   "cell_type": "code",
   "execution_count": 3,
   "metadata": {},
   "outputs": [
    {
     "data": {
      "text/plain": [
       "2"
      ]
     },
     "execution_count": 3,
     "metadata": {},
     "output_type": "execute_result"
    }
   ],
   "source": [
    "removeElement(0, [3,2,2,3], 3)"
   ]
  },
  {
   "cell_type": "markdown",
   "metadata": {},
   "source": [
    "<div style=\"float: left\">\n",
    "<img style=\"float: right\" src=\"ss/day1.png\" alt=\"screenshot\" width=\"600\"/>\n",
    "Explanation:\n",
    "\n",
    "The code is pretty much self-explained, basically what I did was to bring the element that is not 'val' forward while counting the number of elements that we brought forward and return the 'counter' val.\n",
    "Extra steps like deleting the elements after 'counter'-1 and returning the length of what's remained in the list though.\n",
    "</div>\n"
   ]
  },
  {
   "cell_type": "markdown",
   "metadata": {},
   "source": [
    "## Day 2 - [Valid Sudoku (Medium)](https://leetcode.com/problems/valid-sudoku/)"
   ]
  },
  {
   "cell_type": "code",
   "execution_count": 2,
   "metadata": {},
   "outputs": [],
   "source": [
    "def isValidSudoku(self, board):\n",
    "    \"\"\"\n",
    "    :type board: List[List[str]]\n",
    "    :rtype: bool\n",
    "    \"\"\"\n",
    "    # check if the segment valid\n",
    "    def is_valid(arr):\n",
    "        reduced_arr = [i for i in arr if i != '.']\n",
    "        return len(set(reduced_arr)) == len(reduced_arr)\n",
    "    # check rows\n",
    "    for row in board:\n",
    "        if not is_valid(row):\n",
    "            return False\n",
    "    # check cols\n",
    "    for j in range(9):\n",
    "        col = [board[i][j] for i in range(9)]\n",
    "        if not is_valid(col):\n",
    "            return False\n",
    "    # check 3x3 blocks\n",
    "    for i in (0,3,6):\n",
    "        for j in (0,3,6):\n",
    "            block = [board[x][y] for x in range(i, i + 3) for y in range(j, j + 3)]\n",
    "            if not is_valid(block):\n",
    "                return False\n",
    "    return True"
   ]
  },
  {
   "cell_type": "code",
   "execution_count": 11,
   "metadata": {},
   "outputs": [
    {
     "data": {
      "text/plain": [
       "True"
      ]
     },
     "execution_count": 11,
     "metadata": {},
     "output_type": "execute_result"
    }
   ],
   "source": [
    "isValidSudoku(0, \n",
    "              [[\"5\",\"3\",\".\",\".\",\"7\",\".\",\".\",\".\",\".\"],\n",
    "               [\"6\",\".\",\".\",\"1\",\"9\",\"5\",\".\",\".\",\".\"],\n",
    "               [\".\",\"9\",\"8\",\".\",\".\",\".\",\".\",\"6\",\".\"],\n",
    "               [\"8\",\".\",\".\",\".\",\"6\",\".\",\".\",\".\",\"3\"],\n",
    "               [\"4\",\".\",\".\",\"8\",\".\",\"3\",\".\",\".\",\"1\"],\n",
    "               [\"7\",\".\",\".\",\".\",\"2\",\".\",\".\",\".\",\"6\"],\n",
    "               [\".\",\"6\",\".\",\".\",\".\",\".\",\"2\",\"8\",\".\"],\n",
    "               [\".\",\".\",\".\",\"4\",\"1\",\"9\",\".\",\".\",\"5\"],\n",
    "               [\".\",\".\",\".\",\".\",\"8\",\".\",\".\",\"7\",\"9\"]])"
   ]
  },
  {
   "cell_type": "markdown",
   "metadata": {},
   "source": [
    "<div style=\"float: left\">\n",
    "<img style=\"float: right\" src=\"ss/day2.png\" alt=\"screenshot\" width=\"600\"/>\n",
    "Explanation:\n",
    "\n",
    "I think the code is pretty readable but basically I tried to check the validity of the sudoku board sequentially starting from its row, cols and each 3x3 blocks. and for each check, I comparede the length of 1d list of the segment I want to check to the length its set/unique elements of it. \n",
    "</div>\n"
   ]
  },
  {
   "cell_type": "markdown",
   "metadata": {},
   "source": [
    "## Day 3 - [Jump Game II (Medium)](https://leetcode.com/problems/jump-game-ii/)"
   ]
  },
  {
   "cell_type": "code",
   "execution_count": 15,
   "metadata": {},
   "outputs": [],
   "source": [
    "def jump(self, nums):\n",
    "    if len(nums) == 1:\n",
    "        return 0 #for early exit\n",
    "    \n",
    "    left, right, step_counter = 0, 0, 0\n",
    "    while right < len(nums)-1:\n",
    "        max_jump = 0\n",
    "        for i in range(left, right+1):\n",
    "            max_jump = max(max_jump, i + nums[i])\n",
    "        left, right = right + 1, max_jump\n",
    "        step_counter += 1\n",
    "    return step_counter"
   ]
  },
  {
   "cell_type": "code",
   "execution_count": 16,
   "metadata": {},
   "outputs": [
    {
     "data": {
      "text/plain": [
       "2"
      ]
     },
     "execution_count": 16,
     "metadata": {},
     "output_type": "execute_result"
    }
   ],
   "source": [
    "jump(0, [2,3,1,1,4])"
   ]
  },
  {
   "cell_type": "markdown",
   "metadata": {},
   "source": [
    "<div style=\"float: left\">\n",
    "<img style=\"float: right\" src=\"ss/day3.png\" alt=\"screenshot\" width=\"600\"/>\n",
    "Explanation:\n",
    "\n",
    "this is a greedy apporach which maximizes the jump at each step and then moves to the next step since we are only interested in the minimum number of steps to reach the end.\n",
    "</div>\n"
   ]
  },
  {
   "cell_type": "markdown",
   "metadata": {},
   "source": [
    "## Day 4 - [Merge Intervals (Medium)](https://leetcode.com/problems/merge-intervals/)"
   ]
  },
  {
   "cell_type": "code",
   "execution_count": 5,
   "metadata": {},
   "outputs": [],
   "source": [
    "def merge(self, intervals):\n",
    "    if len(intervals) == 0:\n",
    "        return [] #for early exit\n",
    "    \n",
    "    intervals = sorted(intervals, key = lambda x: x[0])\n",
    "    merged = [intervals[0]]\n",
    "    \n",
    "    for cur in intervals[1:]:\n",
    "        if merged[-1][1] >= cur[0]:\n",
    "            merged[-1][1] = max(cur[1], merged[-1][1])\n",
    "        else:\n",
    "            merged.append(cur)\n",
    "    return merged"
   ]
  },
  {
   "cell_type": "code",
   "execution_count": 6,
   "metadata": {},
   "outputs": [
    {
     "data": {
      "text/plain": [
       "[[1, 6], [8, 10], [15, 18]]"
      ]
     },
     "execution_count": 6,
     "metadata": {},
     "output_type": "execute_result"
    }
   ],
   "source": [
    "merge(0, [[1,3],[2,6],[8,10],[15,18]])"
   ]
  },
  {
   "cell_type": "markdown",
   "metadata": {},
   "source": [
    "<div style=\"float: left\">\n",
    "<img style=\"float: right\" src=\"ss/day4.png\" alt=\"screenshot\" width=\"600\"/>\n",
    "Explanation:\n",
    "The approach I took to solve this is that first, I sort the elements in 'intervals' (which consists of values of [start, end]) based on its 'start' value. Then the rest is just matter of comparing the last element of merged's [end] with each of interval's element's [start] to construct/fill the 'merged' list.\n",
    "</div>\n"
   ]
  },
  {
   "cell_type": "markdown",
   "metadata": {},
   "source": [
    "### Extra - [Length of Last Word (Easy)](https://leetcode.com/problems/length-of-last-word/)"
   ]
  },
  {
   "cell_type": "code",
   "execution_count": 7,
   "metadata": {},
   "outputs": [],
   "source": [
    "def lengthOfLastWordLazy(self, s):\n",
    "    return len(s.strip().split(\" \")[-1])\n",
    "def lengthOfLastWordEffort(self, s):\n",
    "    answer = 0\n",
    "    for c in s[::-1]:\n",
    "        if c != ' ':\n",
    "            answer += 1\n",
    "        elif answer > 0:\n",
    "            break\n",
    "    return answer"
   ]
  },
  {
   "cell_type": "code",
   "execution_count": 9,
   "metadata": {},
   "outputs": [
    {
     "name": "stdout",
     "output_type": "stream",
     "text": [
      "4\n",
      "4\n"
     ]
    }
   ],
   "source": [
    "print(lengthOfLastWordLazy(0, \"   fly me   to   the moon  \"))\n",
    "print(lengthOfLastWordEffort(0, \"   fly me   to   the moon  \"))"
   ]
  },
  {
   "cell_type": "markdown",
   "metadata": {},
   "source": [
    "a lazy apporach (where I used the built-in split function) and an effort approach (where I looped through the string in reverse and counted the length of the last word). The lazy approach is more readable and concise, but the effort approach is more efficient. The lazy approach has a time complexity of O(n) and a space complexity of O(n), while the effort approach has a time complexity of O(n) and a space complexity of O(1)."
   ]
  },
  {
   "cell_type": "markdown",
   "metadata": {},
   "source": [
    "## Day 5 - [Divide Two Integers (Medium)](https://leetcode.com/problems/divide-two-integers/)"
   ]
  },
  {
   "cell_type": "code",
   "execution_count": 12,
   "metadata": {},
   "outputs": [],
   "source": [
    "def divide(self, dividend, divisor):\n",
    "    neg = (dividend >= 0 and divisor < 0) or (dividend < 0 and divisor >= 0)\n",
    "    \n",
    "    q = 0\n",
    "    a = abs(dividend)\n",
    "    b = abs(divisor)\n",
    "    while a >= b:\n",
    "        counter = 1\n",
    "        dec = b\n",
    "        while a >= dec:\n",
    "            a -= dec\n",
    "            q += counter\n",
    "            counter += counter\n",
    "            dec += dec\n",
    "    q = q if not neg else -q\n",
    "    \n",
    "    return min(max(-2147483648, q), 2147483647)"
   ]
  },
  {
   "cell_type": "code",
   "execution_count": 14,
   "metadata": {},
   "outputs": [
    {
     "data": {
      "text/plain": [
       "3"
      ]
     },
     "execution_count": 14,
     "metadata": {},
     "output_type": "execute_result"
    }
   ],
   "source": [
    "divide(0, 10, 3)"
   ]
  },
  {
   "cell_type": "markdown",
   "metadata": {},
   "source": [
    "<div style=\"float: left\">\n",
    "<img style=\"float: right\" src=\"ss/day5.png\" alt=\"screenshot\" width=\"600\"/>\n",
    "Explanation:\n",
    "\n",
    "the approach is to keep subtracting the divisor from the dividend until the dividend is less than the divisor. The number of times we subtract is the quotient. We keep doubling the divisor and the counter until the dividend is less than the doubled divisor. This is probably not the most optimal approach and I think bit manipulation will be a more optimal solution for this problem.\n",
    "</div>"
   ]
  },
  {
   "cell_type": "markdown",
   "metadata": {},
   "source": [
    "## Day 6 - [Partition Array for Maximum Sum (Medium)](https://leetcode.com/problems/partition-array-for-maximum-sum/)"
   ]
  },
  {
   "cell_type": "code",
   "execution_count": 17,
   "metadata": {},
   "outputs": [],
   "source": [
    "def maxSumAfterPartitioning(self, arr, k):\n",
    "    n = len(arr)\n",
    "    dp = [0] * n\n",
    "\n",
    "    for i in range(n):\n",
    "        current_max = 0\n",
    "        for j in range(1, min(k, i + 1) + 1):\n",
    "            current_max = max(current_max, arr[i - j + 1])\n",
    "            dp[i] = max(dp[i], (dp[i - j] if i - j >= 0 else 0) + current_max * j)\n",
    "\n",
    "    # return dp[-1]\n",
    "    return min(2147483648,max(-2147483648, dp[-1]))"
   ]
  },
  {
   "cell_type": "code",
   "execution_count": 18,
   "metadata": {},
   "outputs": [
    {
     "data": {
      "text/plain": [
       "84"
      ]
     },
     "execution_count": 18,
     "metadata": {},
     "output_type": "execute_result"
    }
   ],
   "source": [
    "maxSumAfterPartitioning(0, [1,15,7,9,2,5,10], 3)"
   ]
  },
  {
   "cell_type": "markdown",
   "metadata": {},
   "source": [
    "<div style=\"float: left\">\n",
    "<img style=\"float: right\" src=\"ss/day6.png\" alt=\"screenshot\" width=\"600\"/>\n",
    "Explanation:\n",
    "\n",
    "this is a dynamic programming problem, the idea is to keep track of the maximum value of the last k elements, and then use that to calculate the maximum value of the last k+1 elements, and so on. I kinda misread the problem's description where I thought we need to clamp the result within 32bit integer range, which was not hahahaha\n",
    "</div>"
   ]
  },
  {
   "cell_type": "markdown",
   "metadata": {},
   "source": [
    "## Day 7 - [Trips and Users (Hard)](https://leetcode.com/problems/trips-and-users/)"
   ]
  },
  {
   "cell_type": "code",
   "execution_count": 20,
   "metadata": {},
   "outputs": [],
   "source": [
    "import pandas as pd\n",
    "\n",
    "def trips_and_users(trips: pd.DataFrame, users: pd.DataFrame) -> pd.DataFrame:\n",
    "    trips = trips[trips.request_at.between('2013-10-01', '2013-10-03')].rename(columns = {'request_at':'Day'})\n",
    "    trips = trips[(trips['client_id'].isin(users[users['banned'] == 'No']['users_id'])) & (trips['driver_id'].isin(users[users['banned'] == 'No']['users_id']))]\n",
    "    \n",
    "    if trips.empty or users.empty:\n",
    "        return pd.DataFrame(columns=['Day', 'Cancellation Rate'])\n",
    "\n",
    "    trips['status'] = trips['status'].str.split('_').str[0]\n",
    "    trips['is_cancelled'] = trips['status'] == 'cancelled'\n",
    "\n",
    "    trips = trips.groupby('Day')['is_cancelled'].agg(['sum','size']).reset_index()\n",
    "    trips['Cancellation Rate'] = (trips['sum'] / trips['size']).round(2)\n",
    "\n",
    "    return trips[['Day', 'Cancellation Rate']]"
   ]
  },
  {
   "cell_type": "markdown",
   "metadata": {},
   "source": [
    "<div style=\"float: left\">\n",
    "<img style=\"float: right\" src=\"ss/day7.png\" alt=\"screenshot\" width=\"600\"/>\n",
    "Explanation:\n",
    "\n",
    "the apporach is to first filter the trips dataframe to only include the trips that happened between the dates '2013-10-01' and '2013-10-03'. Then, we filter the trips dataframe to only include the trips where the client_id and driver_id are not banned. We then create a new column called status which is the first word of the status column. Then, we create a new column called is_cancelled which is True if the status is cancelled and False otherwise. We then group the dataframe by the Day column and calculate the sum and size of the is_cancelled column. We then calculate the Cancellation Rate by dividing the sum by the size and rounding to 2 decimal places. Finally, we return the Day and Cancellation Rate columns.\n",
    "\n",
    "technically did not managed to finish the problem before midnight T_T\n",
    "</div>"
   ]
  },
  {
   "cell_type": "markdown",
   "metadata": {},
   "source": [
    "## Day 8 - [Game Play Analysis I (Easy)](https://leetcode.com/problems/game-play-analysis-i/)"
   ]
  },
  {
   "cell_type": "code",
   "execution_count": 21,
   "metadata": {},
   "outputs": [],
   "source": [
    "import pandas as pd\n",
    "\n",
    "def game_analysis(activity: pd.DataFrame) -> pd.DataFrame:\n",
    "    activity.sort_values(by='event_date', ascending = True, inplace = True)\n",
    "    return activity.drop_duplicates(subset = 'player_id', keep = 'first') \\\n",
    "            [['player_id', 'event_date']] \\\n",
    "            .rename(columns={'event_date':'first_login'})"
   ]
  },
  {
   "cell_type": "markdown",
   "metadata": {},
   "source": [
    "<div style=\"float: left\">\n",
    "<img style=\"float: right\" src=\"ss/day8.png\" alt=\"screenshot\" width=\"600\"/>\n",
    "Explanation:\n",
    "\n",
    "the approach is to sort the dataframe by event_date, then drop duplicates by player_id, keeping the first login date.\n",
    "\n",
    "grouping the dataframe based on player_id and using agg to get the minimum value of event_date, while at the same time renaming the column will probably result in more optimal performance\n",
    "</div>"
   ]
  }
 ],
 "metadata": {
  "kernelspec": {
   "display_name": "Python 3",
   "language": "python",
   "name": "python3"
  },
  "language_info": {
   "codemirror_mode": {
    "name": "ipython",
    "version": 3
   },
   "file_extension": ".py",
   "mimetype": "text/x-python",
   "name": "python",
   "nbconvert_exporter": "python",
   "pygments_lexer": "ipython3",
   "version": "3.11.5"
  }
 },
 "nbformat": 4,
 "nbformat_minor": 2
}
